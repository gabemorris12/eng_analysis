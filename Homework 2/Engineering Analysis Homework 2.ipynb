{
 "cells": [
  {
   "cell_type": "markdown",
   "source": [
    "\\begin{center}\n",
    "Gabe Morris\n",
    "\\end{center}"
   ],
   "metadata": {
    "collapsed": false
   },
   "id": "134b3529368f64f4"
  },
  {
   "cell_type": "code",
   "execution_count": 1,
   "outputs": [],
   "source": [
    "# Notebook Preamble\n",
    "from eng_analysis import gauss_solve, choleski_decomposition, choleski_solve, lu_decomposition, lu_solve, conj_grad\n",
    "import numpy as np\n",
    "import sympy as sp"
   ],
   "metadata": {
    "collapsed": false,
    "ExecuteTime": {
     "end_time": "2023-09-12T15:25:19.851397600Z",
     "start_time": "2023-09-12T15:25:18.884585400Z"
    }
   },
   "id": "767379e681b28384"
  },
  {
   "cell_type": "markdown",
   "source": [
    "**Important:** I am creating a python package for this class. You might not use it in the future as I believe one of your primary goals is for students to figure out how to run the code, but with this package, everything will be organized appropriately, and you'll be able to install via `pip install eng_analysis`. There are many issues with the existing code in the book from a practical standpoint and from neglect of code etiquette.\n",
    "\n",
    "The project and the code will be changed significantly as we continue with the class. The content may be found [here](https://github.com/gabemorris12/eng_analysis).\n",
    "\n",
    "\\pagebreak\n",
    "\\tableofcontents\n",
    "\\pagebreak\n",
    "\n",
    "# Problem 1\n",
    "Solve the equations $Ax=b$ using Gauss elimination for\n",
    "\n",
    "$$A=\\left[\\begin{matrix}2 & -1 & 0 & 0\\\\0 & 0 & -1 & 1\\\\0 & -1 & 2 & -1\\\\-1 & 2 & -1 & 0\\end{matrix}\\right]$$\n",
    "\n",
    "$$b=\\left[\\begin{matrix}1\\\\0\\\\0\\\\0\\end{matrix}\\right]$$\n",
    "\n",
    "## Solution\n",
    "Remember, the code for the package is found [here](https://github.com/gabemorris12/eng_analysis.git)."
   ],
   "metadata": {
    "collapsed": false
   },
   "id": "2d54e83ba9d67719"
  },
  {
   "cell_type": "code",
   "execution_count": 2,
   "outputs": [
    {
     "data": {
      "text/plain": "array([1., 1., 1., 1.])"
     },
     "execution_count": 2,
     "metadata": {},
     "output_type": "execute_result"
    }
   ],
   "source": [
    "A = [\n",
    "    [2, -1, 0, 0],\n",
    "    [0, 0, -1, 1],\n",
    "    [0, -1, 2, -1],\n",
    "    [-1, 2, -1, 0]\n",
    "]\n",
    "b = [1, 0, 0, 0]\n",
    "\n",
    "x = gauss_solve(A, b)\n",
    "x"
   ],
   "metadata": {
    "collapsed": false,
    "ExecuteTime": {
     "end_time": "2023-09-12T15:25:19.892389100Z",
     "start_time": "2023-09-12T15:25:19.852384300Z"
    }
   },
   "id": "bf9b29afb4008dfc"
  },
  {
   "cell_type": "markdown",
   "source": [
    "One important contribution from the `eng_analysis` package is that the datatype for the input does not matter. Also, a huge mistake with the existing source code was that it was not using copies of the numpy arrays, which means that it was changing them in place. This is undesirable as the matrices $A$ and $b$ could be used later after getting the solution.\n",
    "\n",
    "The solution can be verified using `numpy`."
   ],
   "metadata": {
    "collapsed": false
   },
   "id": "c0798fd4304d5ae1"
  },
  {
   "cell_type": "code",
   "execution_count": 3,
   "outputs": [
    {
     "data": {
      "text/plain": "array([1., 1., 1., 1.])"
     },
     "execution_count": 3,
     "metadata": {},
     "output_type": "execute_result"
    }
   ],
   "source": [
    "np.linalg.solve(A, b)"
   ],
   "metadata": {
    "collapsed": false,
    "ExecuteTime": {
     "end_time": "2023-09-12T15:25:19.920319500Z",
     "start_time": "2023-09-12T15:25:19.866076600Z"
    }
   },
   "id": "facfe62e54b47225"
  },
  {
   "cell_type": "markdown",
   "source": [
    "\\pagebreak\n",
    "\n",
    "\\begin{center}\n",
    "\\begin{tabular}{ccc}\n",
    "ME 8213 & Homework 2 & Gabe Morris \\\\\n",
    "& & gnm54\n",
    "\\end{tabular}\n",
    "\\end{center}\n",
    "\n",
    "# Problem 2\n",
    "Find the displacement for each of the weights in the following static systems of weights and springs with\n",
    "\n",
    "![P2](P2.PNG)\n",
    "\n",
    "## Solution\n",
    "The system of equations are shown from the below code cell."
   ],
   "metadata": {
    "collapsed": false
   },
   "id": "be990ed20a13028b"
  },
  {
   "cell_type": "code",
   "execution_count": 4,
   "outputs": [
    {
     "data": {
      "text/plain": "Eq(W - k*x1 + k*(-x1 + x2), 0)",
      "text/latex": "$\\displaystyle W - k x_{1} + k \\left(- x_{1} + x_{2}\\right) = 0$"
     },
     "metadata": {},
     "output_type": "display_data"
    },
    {
     "data": {
      "text/plain": "Eq(W - 2*k*x2 + k*(x1 - x2) + k*(-x2 + x3), 0)",
      "text/latex": "$\\displaystyle W - 2 k x_{2} + k \\left(x_{1} - x_{2}\\right) + k \\left(- x_{2} + x_{3}\\right) = 0$"
     },
     "metadata": {},
     "output_type": "display_data"
    },
    {
     "data": {
      "text/plain": "Eq(W + k*(x2 - x3) + k*(-x3 + x4) + 2*k*(-x3 + x5), 0)",
      "text/latex": "$\\displaystyle W + k \\left(x_{2} - x_{3}\\right) + k \\left(- x_{3} + x_{4}\\right) + 2 k \\left(- x_{3} + x_{5}\\right) = 0$"
     },
     "metadata": {},
     "output_type": "display_data"
    },
    {
     "data": {
      "text/plain": "Eq(W + k*(x3 - x4) + k*(-x4 + x5), 0)",
      "text/latex": "$\\displaystyle W + k \\left(x_{3} - x_{4}\\right) + k \\left(- x_{4} + x_{5}\\right) = 0$"
     },
     "metadata": {},
     "output_type": "display_data"
    },
    {
     "data": {
      "text/plain": "Eq(W + 2*k*(x3 - x5) + k*(x4 - x5), 0)",
      "text/latex": "$\\displaystyle W + 2 k \\left(x_{3} - x_{5}\\right) + k \\left(x_{4} - x_{5}\\right) = 0$"
     },
     "metadata": {},
     "output_type": "display_data"
    }
   ],
   "source": [
    "x = x1, x2, x3, x4, x5 = sp.symbols('x1:6')\n",
    "W, k = sp.symbols('W k')\n",
    "\n",
    "eq1 = sp.Eq(W - k*x1 + k*(x2 - x1), 0)\n",
    "eq2 = sp.Eq(W + -2*k*x2 + k*(x1 - x2) + k*(x3 - x2), 0)\n",
    "eq3 = sp.Eq(W + k*(x2 - x3) + k*(x4 - x3) + 2*k*(x5 - x3), 0)\n",
    "eq4 = sp.Eq(W + k*(x3 - x4) + k*(x5 - x4), 0)\n",
    "eq5 = sp.Eq(W + k*(x4 - x5) + 2*k*(x3 - x5), 0)\n",
    "display(*[eval(f'eq{i}') for i in range(1, 6)])"
   ],
   "metadata": {
    "collapsed": false,
    "ExecuteTime": {
     "end_time": "2023-09-12T15:25:20.019590500Z",
     "start_time": "2023-09-12T15:25:19.889399Z"
    }
   },
   "id": "908cee4031c9aa21"
  },
  {
   "cell_type": "markdown",
   "source": [
    "`sympy` can put the system into the matrix form as seen below."
   ],
   "metadata": {
    "collapsed": false
   },
   "id": "60ebc3284d71353b"
  },
  {
   "cell_type": "code",
   "execution_count": 5,
   "outputs": [
    {
     "data": {
      "text/plain": "Matrix([\n[-2*k,    k,    0,    0,    0],\n[   k, -4*k,    k,    0,    0],\n[   0,    k, -4*k,    k,  2*k],\n[   0,    0,    k, -2*k,    k],\n[   0,    0,  2*k,    k, -3*k]])",
      "text/latex": "$\\displaystyle \\left[\\begin{matrix}- 2 k & k & 0 & 0 & 0\\\\k & - 4 k & k & 0 & 0\\\\0 & k & - 4 k & k & 2 k\\\\0 & 0 & k & - 2 k & k\\\\0 & 0 & 2 k & k & - 3 k\\end{matrix}\\right]$"
     },
     "metadata": {},
     "output_type": "display_data"
    },
    {
     "data": {
      "text/plain": "Matrix([\n[-W],\n[-W],\n[-W],\n[-W],\n[-W]])",
      "text/latex": "$\\displaystyle \\left[\\begin{matrix}- W\\\\- W\\\\- W\\\\- W\\\\- W\\end{matrix}\\right]$"
     },
     "metadata": {},
     "output_type": "display_data"
    }
   ],
   "source": [
    "A, b = sp.linear_eq_to_matrix([eq1, eq2, eq3, eq4, eq5], x)\n",
    "display(A, b)"
   ],
   "metadata": {
    "collapsed": false,
    "ExecuteTime": {
     "end_time": "2023-09-12T15:25:20.067424600Z",
     "start_time": "2023-09-12T15:25:20.010615700Z"
    }
   },
   "id": "48af66aafbf1c3a0"
  },
  {
   "cell_type": "markdown",
   "source": [
    "From the construction of the matrices above, it is apparent that $A$ is symmetric. The Choleski method is a good choice to solve this system. Since the solution vector ($b$) is all the same value, we can take its value to be 1. It is understood that the output of the choleski solution would then be in terms of $W/k$."
   ],
   "metadata": {
    "collapsed": false
   },
   "id": "66d0582cae256ce0"
  },
  {
   "cell_type": "code",
   "execution_count": 6,
   "outputs": [
    {
     "data": {
      "text/plain": "array([1.4, 1.8, 4.8, 5.6, 5.4])"
     },
     "execution_count": 6,
     "metadata": {},
     "output_type": "execute_result"
    }
   ],
   "source": [
    "A = [\n",
    "    [2, -1, 0, 0, 0],\n",
    "    [-1, 4, -1, 0, 0],\n",
    "    [0, -1, 4, -1, -2],\n",
    "    [0, 0, -1, 2, -1],\n",
    "    [0, 0, -2, -1, 3]\n",
    "]\n",
    "b = [1, 1, 1, 1, 1]\n",
    "L = choleski_decomposition(A)\n",
    "x = choleski_solve(L, b)\n",
    "x"
   ],
   "metadata": {
    "collapsed": false,
    "ExecuteTime": {
     "end_time": "2023-09-12T15:25:20.069419100Z",
     "start_time": "2023-09-12T15:25:20.036127800Z"
    }
   },
   "id": "815dd3371fca28c7"
  },
  {
   "cell_type": "code",
   "execution_count": 7,
   "outputs": [
    {
     "data": {
      "text/plain": "array([1.4, 1.8, 4.8, 5.6, 5.4])"
     },
     "execution_count": 7,
     "metadata": {},
     "output_type": "execute_result"
    }
   ],
   "source": [
    "# Verification using numpy\n",
    "np.linalg.solve(A, b)"
   ],
   "metadata": {
    "collapsed": false,
    "ExecuteTime": {
     "end_time": "2023-09-12T15:25:20.166210100Z",
     "start_time": "2023-09-12T15:25:20.045130600Z"
    }
   },
   "id": "73391920cb77f098"
  },
  {
   "cell_type": "markdown",
   "source": [
    "If $W$ was 25 lbs and $k$ was 50 lbs/in then the displacements would be"
   ],
   "metadata": {
    "collapsed": false
   },
   "id": "7d73586dc44a1c87"
  },
  {
   "cell_type": "code",
   "execution_count": 8,
   "outputs": [
    {
     "data": {
      "text/plain": "array([0.7, 0.9, 2.4, 2.8, 2.7])"
     },
     "execution_count": 8,
     "metadata": {},
     "output_type": "execute_result"
    }
   ],
   "source": [
    "x*25/50  # inches"
   ],
   "metadata": {
    "collapsed": false,
    "ExecuteTime": {
     "end_time": "2023-09-12T15:25:20.167206900Z",
     "start_time": "2023-09-12T15:25:20.055677400Z"
    }
   },
   "id": "e6de72cdf1c27f12"
  },
  {
   "cell_type": "markdown",
   "source": [
    "\\pagebreak\n",
    "\n",
    "\\begin{center}\n",
    "\\begin{tabular}{ccc}\n",
    "ME 8213 & Homework 2 & Gabe Morris \\\\\n",
    "& & gnm54\n",
    "\\end{tabular}\n",
    "\\end{center}\n",
    "\n",
    "# Problem 3\n",
    "Consider the static truss below. Find the member force $P_n$ in each support.\n",
    "\n",
    "![P3](P3.PNG)\n",
    "\n",
    "## Solution\n",
    "The system of equations can be found by using the method of joints on the three points that are not the fixed/grounded points (the reactions)."
   ],
   "metadata": {
    "collapsed": false
   },
   "id": "63afab13879c731a"
  },
  {
   "cell_type": "code",
   "execution_count": 9,
   "outputs": [
    {
     "data": {
      "text/plain": "Eq(-P1 + P2 - sqrt(2)*P3/2, 0)",
      "text/latex": "$\\displaystyle - P_{1} + P_{2} - \\frac{\\sqrt{2} P_{3}}{2} = 0$"
     },
     "metadata": {},
     "output_type": "display_data"
    },
    {
     "data": {
      "text/plain": "Eq(sqrt(2)*P3/2 + P4 - 18, 0)",
      "text/latex": "$\\displaystyle \\frac{\\sqrt{2} P_{3}}{2} + P_{4} - 18 = 0$"
     },
     "metadata": {},
     "output_type": "display_data"
    },
    {
     "data": {
      "text/plain": "Eq(-P2 - sqrt(2)*P5/2, 0)",
      "text/latex": "$\\displaystyle - P_{2} - \\frac{\\sqrt{2} P_{5}}{2} = 0$"
     },
     "metadata": {},
     "output_type": "display_data"
    },
    {
     "data": {
      "text/plain": "Eq(sqrt(2)*P5/2, 12)",
      "text/latex": "$\\displaystyle \\frac{\\sqrt{2} P_{5}}{2} = 12$"
     },
     "metadata": {},
     "output_type": "display_data"
    },
    {
     "data": {
      "text/plain": "Eq(sqrt(2)*P5/2 - P6, 0)",
      "text/latex": "$\\displaystyle \\frac{\\sqrt{2} P_{5}}{2} - P_{6} = 0$"
     },
     "metadata": {},
     "output_type": "display_data"
    },
    {
     "data": {
      "text/plain": "Eq(-P4 - sqrt(2)*P5/2, 0)",
      "text/latex": "$\\displaystyle - P_{4} - \\frac{\\sqrt{2} P_{5}}{2} = 0$"
     },
     "metadata": {},
     "output_type": "display_data"
    }
   ],
   "source": [
    "p = p1, p2, p3, p4, p5, p6 = sp.symbols('P1:7')\n",
    "\n",
    "eq1 = sp.Eq(p2 - p1 - p3*sp.cos(sp.pi/4), 0)\n",
    "eq2 = sp.Eq(p4 - 18 + p3*sp.sin(sp.pi/4), 0)\n",
    "eq3 = sp.Eq(-p2 - p5*sp.cos(sp.pi/4), 0)\n",
    "eq4 = sp.Eq(p5*sp.sin(sp.pi/4), 12)\n",
    "eq5 = sp.Eq(p5*sp.cos(sp.pi/4) - p6, 0)\n",
    "eq6 = sp.Eq(-p4 - p5*sp.sin(sp.pi/4), 0)\n",
    "display(eq1, eq2, eq3, eq4, eq5, eq6)"
   ],
   "metadata": {
    "collapsed": false,
    "ExecuteTime": {
     "end_time": "2023-09-12T15:25:20.315065Z",
     "start_time": "2023-09-12T15:25:20.068421100Z"
    }
   },
   "id": "6963a14825ab5e09"
  },
  {
   "cell_type": "code",
   "execution_count": 10,
   "outputs": [
    {
     "data": {
      "text/plain": "Matrix([\n[-1,  1, -sqrt(2)/2,  0,          0,  0],\n[ 0,  0,  sqrt(2)/2,  1,          0,  0],\n[ 0, -1,          0,  0, -sqrt(2)/2,  0],\n[ 0,  0,          0,  0,  sqrt(2)/2,  0],\n[ 0,  0,          0,  0,  sqrt(2)/2, -1],\n[ 0,  0,          0, -1, -sqrt(2)/2,  0]])",
      "text/latex": "$\\displaystyle \\left[\\begin{matrix}-1 & 1 & - \\frac{\\sqrt{2}}{2} & 0 & 0 & 0\\\\0 & 0 & \\frac{\\sqrt{2}}{2} & 1 & 0 & 0\\\\0 & -1 & 0 & 0 & - \\frac{\\sqrt{2}}{2} & 0\\\\0 & 0 & 0 & 0 & \\frac{\\sqrt{2}}{2} & 0\\\\0 & 0 & 0 & 0 & \\frac{\\sqrt{2}}{2} & -1\\\\0 & 0 & 0 & -1 & - \\frac{\\sqrt{2}}{2} & 0\\end{matrix}\\right]$"
     },
     "metadata": {},
     "output_type": "display_data"
    },
    {
     "data": {
      "text/plain": "Matrix([\n[ 0],\n[18],\n[ 0],\n[12],\n[ 0],\n[ 0]])",
      "text/latex": "$\\displaystyle \\left[\\begin{matrix}0\\\\18\\\\0\\\\12\\\\0\\\\0\\end{matrix}\\right]$"
     },
     "metadata": {},
     "output_type": "display_data"
    }
   ],
   "source": [
    "A, b = sp.linear_eq_to_matrix([eq1, eq2, eq3, eq4, eq5, eq6], p)\n",
    "display(A, b)"
   ],
   "metadata": {
    "collapsed": false,
    "ExecuteTime": {
     "end_time": "2023-09-12T15:25:20.318063300Z",
     "start_time": "2023-09-12T15:25:20.163217900Z"
    }
   },
   "id": "fed45d80becfe484"
  },
  {
   "cell_type": "markdown",
   "source": [
    "The format of this matrix is not symmetric, so LU decomposition is a valid option."
   ],
   "metadata": {
    "collapsed": false
   },
   "id": "23166826ad487eac"
  },
  {
   "cell_type": "code",
   "execution_count": 11,
   "outputs": [
    {
     "data": {
      "text/plain": "array([-42.        , -12.        ,  42.42640687, -12.        ,\n        16.97056275,  12.        ])"
     },
     "execution_count": 11,
     "metadata": {},
     "output_type": "execute_result"
    }
   ],
   "source": [
    "LU, seq = lu_decomposition(np.array(A))\n",
    "x = lu_solve(LU, np.array(b).reshape((6,)), seq)\n",
    "x"
   ],
   "metadata": {
    "collapsed": false,
    "ExecuteTime": {
     "end_time": "2023-09-12T15:25:20.401825Z",
     "start_time": "2023-09-12T15:25:20.190069200Z"
    }
   },
   "id": "838c7e910e7e4ce"
  },
  {
   "cell_type": "code",
   "execution_count": 12,
   "outputs": [
    {
     "data": {
      "text/plain": "array([-42.        , -12.        ,  42.42640687, -12.        ,\n        16.97056275,  12.        ])"
     },
     "execution_count": 12,
     "metadata": {},
     "output_type": "execute_result"
    }
   ],
   "source": [
    "# Verification\n",
    "np.linalg.solve(np.array(A, dtype=np.float64), np.array(b, dtype=np.float64).reshape((6,)))"
   ],
   "metadata": {
    "collapsed": false,
    "ExecuteTime": {
     "end_time": "2023-09-12T15:25:20.402822300Z",
     "start_time": "2023-09-12T15:25:20.214110100Z"
    }
   },
   "id": "7c0b87db6092f9a8"
  },
  {
   "cell_type": "markdown",
   "source": [
    "\\pagebreak\n",
    "\n",
    "\\begin{center}\n",
    "\\begin{tabular}{ccc}\n",
    "ME 8213 & Homework 2 & Gabe Morris \\\\\n",
    "& & gnm54\n",
    "\\end{tabular}\n",
    "\\end{center}\n",
    "\n",
    "# Problem 4\n",
    "Consider a square, thermally conducting plate with its edges kept at constant temperature as shown below.\n",
    "\n",
    "![P4](P4.PNG)\n",
    "\n",
    "Assume the heat equation governing the temperature, T, at each point in the plate in the steady state is given by:\n",
    "\n",
    "$$\n",
    "\\frac{\\partial^2 T}{\\partial x^2}+\\frac{\\partial^2 T}{\\partial y^2}=0\n",
    "$$\n",
    "\n",
    "By dividing the plate into a 4 x 4 grid of squares and rewriting the above as a numerical derivative, find the temperature of each of the squares using (a) a direct method of your choice and (b) an iterative method of your choice. (c) What is the temperature at the center of the square? How does your prediction change as you go from a 4 x 4 to a 6 x 6 to an 8 x 8 grid?\n",
    "\n",
    "## Solution\n",
    "The solution can be obtained by getting the second order derivative approximation for $x$ and $y$, then superimposing both results. The final result is\n",
    "\n",
    "$$\n",
    "\\left[\\begin{array}{rrrrrrrrr}\n",
    "4 & -1 & 0 & -1 & 0 & 0 & 0 & 0 & 0 \\\\\n",
    "-1 & 4 & -1 & 0 & -1 & 0 & 0 & 0 & 0 \\\\\n",
    "0 & -1 & 4 & 0 & 0 & -1 & 0 & 0 & 0 \\\\\n",
    "-1 & 0 & 0 & 4 & -1 & 0 & -1 & 0 & 0 \\\\\n",
    "0 & -1 & 0 & -1 & 4 & -1 & 0 & -1 & 0 \\\\\n",
    "0 & 0 & -1 & 0 & -1 & 4 & 0 & 0 & -1 \\\\\n",
    "0 & 0 & 0 & -1 & 0 & 0 & 4 & -1 & 0 \\\\\n",
    "0 & 0 & 0 & 0 & -1 & 0 & -1 & 4 & -1 \\\\\n",
    "0 & 0 & 0 & 0 & 0 & -1 & 0 & -1 & 4\n",
    "\\end{array}\\right]\\left[\\begin{array}{r}\n",
    "T_1 \\\\\n",
    "T_2 \\\\\n",
    "T_3 \\\\\n",
    "T_4 \\\\\n",
    "T_5 \\\\\n",
    "T_6 \\\\\n",
    "T_7 \\\\\n",
    "T_8 \\\\\n",
    "T_9\n",
    "\\end{array}\\right]=\\left[\\begin{array}{r}\n",
    "0 \\\\\n",
    "0 \\\\\n",
    "100 \\\\\n",
    "0 \\\\\n",
    "0 \\\\\n",
    "100 \\\\\n",
    "200 \\\\\n",
    "200 \\\\\n",
    "300\n",
    "\\end{array}\\right]\n",
    "$$\n",
    "\n",
    "### Part A\n",
    "Since this system is symmetric and appears to be positive definite, the Choleski method is a valid choice."
   ],
   "metadata": {
    "collapsed": false
   },
   "id": "d8b766498c76ce7b"
  },
  {
   "cell_type": "code",
   "execution_count": 13,
   "outputs": [
    {
     "data": {
      "text/plain": "array([ 21.42857143,  38.39285714,  57.14285714,  47.32142857,\n        75.        ,  90.17857143,  92.85714286, 124.10714286,\n       128.57142857])"
     },
     "execution_count": 13,
     "metadata": {},
     "output_type": "execute_result"
    }
   ],
   "source": [
    "A = [\n",
    "    [4, -1, 0, -1, 0, 0, 0, 0, 0],\n",
    "    [-1, 4, -1, 0, -1, 0, 0, 0, 0],\n",
    "    [0, -1, 4, 0, 0, -1, 0, 0, 0],\n",
    "    [-1, 0, 0, 4, -1, 0, -1, 0, 0],\n",
    "    [0, -1, 0, -1, 4, -1, 0, -1, 0],\n",
    "    [0, 0, -1, 0, -1, 4, 0, 0, -1],\n",
    "    [0, 0, 0, -1, 0, 0, 4, -1, 0],\n",
    "    [0, 0, 0, 0, -1, 0, -1, 4, -1],\n",
    "    [0, 0, 0, 0, 0, -1, 0, -1, 4]\n",
    "]\n",
    "b = [0, 0, 100, 0, 0, 100, 200, 200, 300]\n",
    "L = choleski_decomposition(A)\n",
    "x = choleski_solve(L, b)\n",
    "x"
   ],
   "metadata": {
    "collapsed": false,
    "ExecuteTime": {
     "end_time": "2023-09-12T15:25:20.404816500Z",
     "start_time": "2023-09-12T15:25:20.232295700Z"
    }
   },
   "id": "af79e01978b3c357"
  },
  {
   "cell_type": "markdown",
   "source": [
    "### Part B\n",
    "The matrix is sparse, so the conjugate gradient method is a good choice."
   ],
   "metadata": {
    "collapsed": false
   },
   "id": "620fed99b2ae0b68"
  },
  {
   "cell_type": "code",
   "execution_count": 14,
   "outputs": [
    {
     "data": {
      "text/plain": "(array([ 21.42857143,  38.39285714,  57.14285714,  47.32142857,\n         75.        ,  90.17857143,  92.85714286, 124.10714286,\n        128.57142857]),\n 4)"
     },
     "execution_count": 14,
     "metadata": {},
     "output_type": "execute_result"
    }
   ],
   "source": [
    "Av = lambda x_: np.matmul(A, x_)\n",
    "x, iter_num = conj_grad(Av, np.zeros(len(A)), b)\n",
    "x, iter_num"
   ],
   "metadata": {
    "collapsed": false,
    "ExecuteTime": {
     "end_time": "2023-09-12T15:25:20.405813800Z",
     "start_time": "2023-09-12T15:25:20.263565400Z"
    }
   },
   "id": "c2c49f064e73337f"
  },
  {
   "cell_type": "markdown",
   "source": [
    "### Part C\n",
    "The temperature at the center of the square is $T_5=75^\\circ$. As for making the mesh finer, the solution becomes more accurate and the difference in temperature from one grid point to the next will decrease. Programmatically, the pattern of the matrix would need to extend to fit the greater number of grid points. The automation of this process is what makes up finite element analysis software."
   ],
   "metadata": {
    "collapsed": false
   },
   "id": "de9b1e6d1d05feb6"
  }
 ],
 "metadata": {
  "kernelspec": {
   "display_name": "Python 3",
   "language": "python",
   "name": "python3"
  },
  "language_info": {
   "codemirror_mode": {
    "name": "ipython",
    "version": 2
   },
   "file_extension": ".py",
   "mimetype": "text/x-python",
   "name": "python",
   "nbconvert_exporter": "python",
   "pygments_lexer": "ipython2",
   "version": "2.7.6"
  }
 },
 "nbformat": 4,
 "nbformat_minor": 5
}
